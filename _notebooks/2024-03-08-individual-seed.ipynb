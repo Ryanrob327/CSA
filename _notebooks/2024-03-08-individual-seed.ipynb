{
 "cells": [
  {
   "cell_type": "markdown",
   "metadata": {},
   "source": [
    "---\n",
    "comments: true\n",
    "layout: post\n",
    "title: Individual seed\n",
    "description: evidence that I met requirements for seed grade\n",
    "courses: { calendar: {week: 25} }\n",
    "type: hacks\n",
    "---"
   ]
  },
  {
   "cell_type": "markdown",
   "metadata": {},
   "source": [
    "<b>1. Individual Progress.  Individual maintains an at-a-glance.  AP preparation progress, Key commits, GitHub Analytics, etc.  They use this blog to start each individual review.</b>\n",
    "- [Github Analytics](https://github.com/Ryanrob327)\n",
    "\n",
    "<b>2. GitHub Pages Blog.  Student makes quality effort to record histories and solicit comments on AP, Project work.</b>\n",
    "- [Github Pages Blog](https://ryanrob327.github.io/CSA/schedule)\n",
    "\n",
    "<b>3. AP work.  All AP work is understood, reviewed, and is determined by Teacher to be your own work.  Student should be proactive in demonstrating understanding.  </b>\n",
    "- [2015 practice exam](https://ryanrob327.github.io/CSA//2023/12/21/2015-Practice-Exam-MCQ.html)\n",
    "- [FRQ 1](https://ryanrob327.github.io/CSA//2024/02/26/FRQ-1_IPYNB_2_.html)\n",
    "- [FRQ 2](https://ryanrob327.github.io/CSA//2024/02/26/FRQ-2_IPYNB_2_.html)\n",
    "- [FRQ 3](https://ryanrob327.github.io/CSA//2024/02/26/FRQ-3_IPYNB_2_.html)\n",
    "- [FRQ 4](https://ryanrob327.github.io/CSA//2024/02/26/FRQ-4_IPYNB_2_.html)\n",
    "\n",
    "<b>4. Project work.  Student follows team requirements and expectations.  They are active in the Scrum work and timelines.</b>\n",
    "- [project work so far: ](https://github.com/Ryanrob327/CSA/issues/9#issue-2174380062)\n",
    "- I have signed up for and drafted a plan to use for our lesson design. It is focused around making the lessons more entertaining and engaging. For example, with our lesson on Object instantiation, we have a restaurant simulator where each food item is an object that you feed to customers. And  for our lesson on 2D arrays, we have a farming simulator that is based on a 2D grid and allows you to harvest corn."
   ]
  }
 ],
 "metadata": {
  "language_info": {
   "name": "python"
  }
 },
 "nbformat": 4,
 "nbformat_minor": 2
}
