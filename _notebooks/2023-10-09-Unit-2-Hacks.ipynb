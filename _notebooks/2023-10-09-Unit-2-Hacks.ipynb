{
 "cells": [
  {
   "cell_type": "markdown",
   "metadata": {},
   "source": [
    "---\n",
    "comments: true\n",
    "layout: post\n",
    "title: Unit 2 Lesson Hacks\n",
    "description: hacks for unit 2 - Objects and instances of classes\n",
    "courses: { calendar: {week: 7} }\n",
    "type: hacks\n",
    "---"
   ]
  },
  {
   "cell_type": "markdown",
   "metadata": {},
   "source": [
    "# Hack 1\n",
    "\n",
    "Create a void method that takes an integer input and adds it to an ArrayList. Then, add a non-void method that is able to call a certain index from the ArrayList."
   ]
  },
  {
   "cell_type": "code",
   "execution_count": 4,
   "metadata": {
    "vscode": {
     "languageId": "java"
    }
   },
   "outputs": [
    {
     "name": "stdout",
     "output_type": "stream",
     "text": [
      "Element at index 0: 10\n",
      "Element at index 1: 20\n",
      "Element at index 2: 30\n"
     ]
    },
    {
     "name": "stderr",
     "output_type": "stream",
     "text": [
      "Index is out of bounds.\n"
     ]
    },
    {
     "name": "stdout",
     "output_type": "stream",
     "text": [
      "Element at index 3: -1\n"
     ]
    }
   ],
   "source": [
    "import java.util.ArrayList;\n",
    "\n",
    "public class ArrayListExample {\n",
    "    // Create an ArrayList to store integers\n",
    "    private ArrayList<Integer> integerList = new ArrayList<>();\n",
    "\n",
    "    // Void method to add an integer to the ArrayList\n",
    "    public void addIntegerToList(int num) {\n",
    "        integerList.add(num);\n",
    "    }\n",
    "\n",
    "    // Non-void method to retrieve an element from the ArrayList at a specific index\n",
    "    public int getElementAtIndex(int index) {\n",
    "        // Check if the index is valid\n",
    "        if (index >= 0 && index < integerList.size()) {\n",
    "            return integerList.get(index);\n",
    "        } else {\n",
    "            // If the index is out of bounds, return a default value (you can change this as needed)\n",
    "            System.err.println(\"Index is out of bounds.\");\n",
    "            return -1; // Default value for an invalid index\n",
    "        }\n",
    "    }\n",
    "}\n",
    "\n",
    "ArrayListExample example = new ArrayListExample();\n",
    "\n",
    "// Add integers to the ArrayList\n",
    "example.addIntegerToList(10);\n",
    "example.addIntegerToList(20);\n",
    "example.addIntegerToList(30);\n",
    "\n",
    "// Retrieve and print elements from the ArrayList\n",
    "System.out.println(\"Element at index 0: \" + example.getElementAtIndex(0));\n",
    "System.out.println(\"Element at index 1: \" + example.getElementAtIndex(1));\n",
    "System.out.println(\"Element at index 2: \" + example.getElementAtIndex(2));\n",
    "\n",
    "// Attempt to retrieve an element at an out-of-bounds index\n",
    "System.out.println(\"Element at index 3: \" + example.getElementAtIndex(3));"
   ]
  },
  {
   "cell_type": "markdown",
   "metadata": {},
   "source": [
    "# Hack 2\n",
    "\n",
    "Create a simple guessing game with random numbers in math, except the random number is taken to a random exponent (also includes roots), and the person has to find out what the root and exponent is (with hints!). Use at least one static and one non-static method in your class."
   ]
  },
  {
   "cell_type": "code",
   "execution_count": 5,
   "metadata": {
    "vscode": {
     "languageId": "java"
    }
   },
   "outputs": [
    {
     "name": "stdout",
     "output_type": "stream",
     "text": [
      "Welcome to the Guessing Game!\n",
      "I have a number in the form of (base^exponent). Your task is to guess both the base and the exponent.\n",
      "You have 3 attempts.\n",
      "Enter your guess for the base: Enter your guess for the exponent: Incorrect! Try again.\n",
      "You have 2 attempts left.\n",
      "Enter your guess for the base: Enter your guess for the exponent: Incorrect! Try again.\n",
      "You have 1 attempts left.\n",
      "Enter your guess for the base: Enter your guess for the exponent: Incorrect! Try again.\n",
      "You have 0 attempts left.\n",
      "Sorry, you've run out of attempts. The correct answer was: 554.2704042432692\n"
     ]
    }
   ],
   "source": [
    "import java.util.Random;\n",
    "import java.util.Scanner;\n",
    "\n",
    "public class GuessingGame {\n",
    "    private static Random random = new Random();\n",
    "    private double number;\n",
    "\n",
    "    public GuessingGame() {\n",
    "        generateRandomNumber();\n",
    "    }\n",
    "\n",
    "    private void generateRandomNumber() {\n",
    "        // Generate a random number between 2 and 10\n",
    "        double base = random.nextDouble() * 9 + 2;\n",
    "        \n",
    "        // Generate a random exponent between 2 and 5 (you can adjust the range)\n",
    "        int exponent = random.nextInt(4) + 2;\n",
    "        \n",
    "        // Calculate the number as base raised to the power of the exponent\n",
    "        number = Math.pow(base, exponent);\n",
    "    }\n",
    "\n",
    "    public void play() {\n",
    "        Scanner scanner = new Scanner(System.in);\n",
    "        int attempts = 3;\n",
    "        \n",
    "        System.out.println(\"Welcome to the Guessing Game!\");\n",
    "        System.out.println(\"I have a number in the form of (base^exponent). Your task is to guess both the base and the exponent.\");\n",
    "        System.out.println(\"You have \" + attempts + \" attempts.\");\n",
    "\n",
    "        while (attempts > 0) {\n",
    "            System.out.print(\"Enter your guess for the base: \");\n",
    "            double guessBase = scanner.nextDouble();\n",
    "            \n",
    "            System.out.print(\"Enter your guess for the exponent: \");\n",
    "            int guessExponent = scanner.nextInt();\n",
    "            \n",
    "            if (guessBase == Math.floor(guessBase) && guessExponent > 1) {\n",
    "                if (guessBase == Math.floor(number) && guessExponent == Math.log(number) / Math.log(guessBase)) {\n",
    "                    System.out.println(\"Congratulations! You guessed it correctly.\");\n",
    "                    break;\n",
    "                } else {\n",
    "                    System.out.println(\"Incorrect! Try again.\");\n",
    "                    attempts--;\n",
    "                    System.out.println(\"You have \" + attempts + \" attempts left.\");\n",
    "                }\n",
    "            } else {\n",
    "                System.out.println(\"Please enter valid guesses (integer for base and exponent > 1).\");\n",
    "            }\n",
    "        }\n",
    "\n",
    "        if (attempts == 0) {\n",
    "            System.out.println(\"Sorry, you've run out of attempts. The correct answer was: \" + number);\n",
    "        }\n",
    "\n",
    "        scanner.close();\n",
    "    }\n",
    "}\n",
    "\n",
    "GuessingGame game = new GuessingGame();\n",
    "game.play();"
   ]
  },
  {
   "cell_type": "markdown",
   "metadata": {},
   "source": [
    "# Hack 3\n",
    "\n",
    "Create a class of your choosing that has multiple parameters of different types (int, boolean, String, double) and put 5 data values in that list. Show that you can access the information by givng some samples."
   ]
  },
  {
   "cell_type": "code",
   "execution_count": 7,
   "metadata": {
    "vscode": {
     "languageId": "java"
    }
   },
   "outputs": [
    {
     "name": "stdout",
     "output_type": "stream",
     "text": [
      "Person 1:\n",
      "Name: Alice\n",
      "Age: 25 years\n",
      "Is a student: Yes\n",
      "Height: 165.5 cm\n",
      "\n"
     ]
    }
   ],
   "source": [
    "public class Person {\n",
    "    private int age;\n",
    "    private boolean isStudent;\n",
    "    private String name;\n",
    "    private double height;\n",
    "\n",
    "    public Person(int age, boolean isStudent, String name, double height) {\n",
    "        this.age = age;\n",
    "        this.isStudent = isStudent;\n",
    "        this.name = name;\n",
    "        this.height = height;\n",
    "    }\n",
    "\n",
    "    public int getAge() {\n",
    "        return age;\n",
    "    }\n",
    "\n",
    "    public boolean isStudent() {\n",
    "        return isStudent;\n",
    "    }\n",
    "\n",
    "    public String getName() {\n",
    "        return name;\n",
    "    }\n",
    "\n",
    "    public double getHeight() {\n",
    "        return height;\n",
    "    }\n",
    "}\n",
    "\n",
    "\n",
    "// Create instances of the Person class\n",
    "Person person1 = new Person(25, true, \"Alice\", 165.5);\n",
    "Person person2 = new Person(30, false, \"Bob\", 180.0);\n",
    "Person person3 = new Person(22, true, \"Charlie\", 175.2);\n",
    "Person person4 = new Person(28, false, \"David\", 170.7);\n",
    "Person person5 = new Person(35, true, \"Eva\", 160.3);\n",
    "\n",
    "// Access and print information about the persons\n",
    "System.out.println(\"Person 1:\");\n",
    "System.out.println(\"Name: \" + person1.getName());\n",
    "System.out.println(\"Age: \" + person1.getAge() + \" years\");\n",
    "System.out.println(\"Is a student: \" + (person1.isStudent() ? \"Yes\" : \"No\"));\n",
    "System.out.println(\"Height: \" + person1.getHeight() + \" cm\");\n",
    "System.out.println();"
   ]
  },
  {
   "cell_type": "markdown",
   "metadata": {},
   "source": [
    "# Hack 4\n",
    "\n",
    "Using your preliminary knowlege of loops, use a for loop to iterate through a person's first and last name, seperated by a space, and create methods to call a person's first name and a person's last name by iterating through the string."
   ]
  },
  {
   "cell_type": "code",
   "execution_count": 8,
   "metadata": {
    "vscode": {
     "languageId": "java"
    }
   },
   "outputs": [
    {
     "name": "stdout",
     "output_type": "stream",
     "text": [
      "First Name: John\n",
      "Last Name: Doe\n"
     ]
    }
   ],
   "source": [
    "public class PersonName {\n",
    "    private String fullName;\n",
    "\n",
    "    public PersonName(String fullName) {\n",
    "        this.fullName = fullName;\n",
    "    }\n",
    "\n",
    "    // Method to get the first name\n",
    "    public String getFirstName() {\n",
    "        // Split the full name using a space as the delimiter\n",
    "        String[] nameParts = fullName.split(\" \");\n",
    "        \n",
    "        // Check if there are at least two parts (first name and last name)\n",
    "        if (nameParts.length >= 2) {\n",
    "            return nameParts[0]; // The first part is the first name\n",
    "        } else {\n",
    "            return \"Invalid Name\"; // Handle the case of an invalid name format\n",
    "        }\n",
    "    }\n",
    "\n",
    "    // Method to get the last name\n",
    "    public String getLastName() {\n",
    "        // Split the full name using a space as the delimiter\n",
    "        String[] nameParts = fullName.split(\" \");\n",
    "        \n",
    "        // Check if there are at least two parts (first name and last name)\n",
    "        if (nameParts.length >= 2) {\n",
    "            return nameParts[1]; // The second part is the last name\n",
    "        } else {\n",
    "            return \"Invalid Name\"; // Handle the case of an invalid name format\n",
    "        }\n",
    "    }\n",
    "}\n",
    "\n",
    "PersonName person = new PersonName(\"John Doe\");\n",
    "\n",
    "// Access and print the first name and last name\n",
    "System.out.println(\"First Name: \" + person.getFirstName());\n",
    "System.out.println(\"Last Name: \" + person.getLastName());"
   ]
  }
 ],
 "metadata": {
  "kernelspec": {
   "display_name": "Java",
   "language": "java",
   "name": "java"
  },
  "language_info": {
   "codemirror_mode": "java",
   "file_extension": ".jshell",
   "mimetype": "text/x-java-source",
   "name": "Java",
   "pygments_lexer": "java",
   "version": "11.0.20+8-post-Ubuntu-1ubuntu120.04"
  }
 },
 "nbformat": 4,
 "nbformat_minor": 2
}
