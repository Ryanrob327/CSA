{
 "cells": [
  {
   "cell_type": "markdown",
   "metadata": {},
   "source": [
    "---\n",
    "comments: true\n",
    "layout: post\n",
    "title: Java calculator\n",
    "description: a simple program to demonstrate my understanding of the java language\n",
    "courses: { calendar: {week: 1} }\n",
    "type: hacks\n",
    "---"
   ]
  },
  {
   "cell_type": "code",
   "execution_count": 14,
   "metadata": {},
   "outputs": [
    {
     "name": "stdout",
     "output_type": "stream",
     "text": [
      "Enter the first number: 4.0\n",
      "Enter the second number: 6.0\n",
      "Choose an operation: \n",
      "1. Add\n",
      "2. Subtract\n",
      "3. Multiply\n",
      "4. Divide\n",
      "*\n",
      "Result: 24.0\n"
     ]
    }
   ],
   "source": [
    "import java.util.Scanner;\n",
    "\n",
    "public class Calculator {\n",
    "    public static void main(String[] args) {\n",
    "        Scanner scanner = new Scanner(System.in);\n",
    "\n",
    "        System.out.print(\"Enter the first number: \");\n",
    "        double num1 = scanner.nextDouble();\n",
    "        System.out.println(num1);\n",
    "\n",
    "        System.out.print(\"Enter the second number: \");\n",
    "        double num2 = scanner.nextDouble();\n",
    "        System.out.println(num2);\n",
    "\n",
    "        System.out.println(\"Choose an operation: \");\n",
    "        System.out.println(\"1. Add\");\n",
    "        System.out.println(\"2. Subtract\");\n",
    "        System.out.println(\"3. Multiply\");\n",
    "        System.out.println(\"4. Divide\");\n",
    "\n",
    "        int operation = scanner.nextInt();\n",
    "        double result = 0;\n",
    "\n",
    "        switch (operation) {\n",
    "            case 1:\n",
    "                System.out.println(\"+\");\n",
    "                result = num1 + num2;\n",
    "                break;\n",
    "            case 2:\n",
    "                System.out.println(\"-\");\n",
    "                result = num1 - num2;\n",
    "                break;\n",
    "            case 3:\n",
    "                System.out.println(\"*\");\n",
    "                result = num1 * num2;\n",
    "                break;\n",
    "            case 4:\n",
    "                System.out.println(\"/\");\n",
    "                if (num2 != 0) {\n",
    "                    result = num1 / num2;\n",
    "                } else {\n",
    "                    System.out.println(\"Cannot divide by zero.\");\n",
    "                    return;\n",
    "                }\n",
    "                break;\n",
    "            default:\n",
    "                System.out.println(\"Invalid operation.\");\n",
    "                return;\n",
    "        }\n",
    "\n",
    "        System.out.println(\"Result: \" + result);\n",
    "\n",
    "        scanner.close();\n",
    "    }\n",
    "}\n",
    "\n",
    "Calculator.main(new String[0]);\n",
    "\n"
   ]
  }
 ],
 "metadata": {
  "kernelspec": {
   "display_name": "Java",
   "language": "java",
   "name": "java"
  },
  "language_info": {
   "codemirror_mode": "java",
   "file_extension": ".jshell",
   "mimetype": "text/x-java-source",
   "name": "java",
   "pygments_lexer": "java",
   "version": "11.0.20+8-post-Ubuntu-1ubuntu120.04"
  },
  "orig_nbformat": 4
 },
 "nbformat": 4,
 "nbformat_minor": 2
}
