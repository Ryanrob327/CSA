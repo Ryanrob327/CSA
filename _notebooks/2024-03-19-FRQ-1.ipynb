{
 "cells": [
  {
   "cell_type": "markdown",
   "metadata": {},
   "source": [
    "---\n",
    "comments: true\n",
    "layout: post\n",
    "title: FRQ 1 hacks\n",
    "description: hacks\n",
    "courses: { calendar: {week: 27} }\n",
    "type: hacks\n",
    "---"
   ]
  },
  {
   "cell_type": "markdown",
   "metadata": {},
   "source": [
    "# Question 2: Iteration over 2D arrays (Unit 4)\n",
    "## A.\n",
    "\n",
    "- To iterate over to 2D arrays it typically requires 2 nested loops that can iterate through the super array and the sub array\n",
    "- One example of the use of a 2D array is in a farming simulator, in this case the simulator uses a 2D tile-based system to place and remove crops. To do this the array must be iterated over.\n",
    "\n",
    "## B."
   ]
  },
  {
   "cell_type": "code",
   "execution_count": 4,
   "metadata": {},
   "outputs": [
    {
     "name": "stdout",
     "output_type": "stream",
     "text": [
      "Total score: 725\n"
     ]
    }
   ],
   "source": [
    "public static int calculateTotalScore(int[][] scores){\n",
    "    int totalScore = 0;\n",
    "\n",
    "    // Iterate through each row (student)\n",
    "    for (int i = 0; i < scores.length; i++) {\n",
    "        // Iterate through each column (score for a student)\n",
    "        for(int j = 0; j < scores[i].length; j++){\n",
    "            // Add the score to the total\n",
    "            totalScore += scores[i][j];\n",
    "        }\n",
    "    }\n",
    "    return totalScore;\n",
    "}\n",
    "\n",
    "// Example usage\n",
    "int[][] scores = {\n",
    "    {80, 90, 95},\n",
    "    {70, 85, 88},\n",
    "    {60, 75, 82}\n",
    "};\n",
    "\n",
    "int totalScore = calculateTotalScore(scores);\n",
    "System.out.println(\"Total score: \" + totalScore);"
   ]
  },
  {
   "cell_type": "markdown",
   "metadata": {},
   "source": [
    "# Question 4: Math Class (Unit 2)\n",
    "## A.\n",
    "\n",
    "The Math class in Java provides a set of static methods for performing common mathematical operations. It is part of the Java standard library and is widely used in various applications for performing calculations. Some of the key purposes and utilities of the Math class include:\n",
    "```Java\n",
    "Math.addExact((int) a, (int) b); // Adds two integers safely without overflow\n",
    "```\n",
    "```Java\n",
    "Math.sin(angle); // Calculate sine value\n",
    "```\n",
    "```Java\n",
    "Math.pow(base, exponent); // Calculate base raised to the power exponent\n",
    "```\n",
    "\n",
    "## B. "
   ]
  },
  {
   "cell_type": "code",
   "execution_count": 6,
   "metadata": {},
   "outputs": [
    {
     "name": "stdout",
     "output_type": "stream",
     "text": [
      "Square root of 25.0 is: 5.0\n"
     ]
    }
   ],
   "source": [
    "/**\n",
    " * Calculates the square root of a double number using the Math class.\n",
    " *\n",
    " * @param number the input number whose square root is to be calculated\n",
    " * @return the square root of the input number\n",
    " */\n",
    "public static double calculateSquareRoot(double number) {\n",
    "    return Math.sqrt(number);\n",
    "}\n",
    "\n",
    "\n",
    "double number = 25.0;\n",
    "double squareRoot = calculateSquareRoot(number);\n",
    "System.out.println(\"Square root of \" + number + \" is: \" + squareRoot);"
   ]
  },
  {
   "cell_type": "markdown",
   "metadata": {},
   "source": [
    "# Question 5: If, While, Else (Unit 3-4)\n",
    "## A.\n",
    "### If\n",
    "\n",
    "- It allows you to execute a block of code only if a specified condition is true.\n",
    "\n",
    "### While\n",
    "\n",
    "- used for repetitive execution of a block of code as long as a specified condition is true.\n",
    "\n",
    "### Else\n",
    "\n",
    "- The else statement is used in conjunction with the if statement to specify the block of code that should be executed if the if condition evaluates to false.\n",
    "\n",
    "## B. "
   ]
  },
  {
   "cell_type": "code",
   "execution_count": 8,
   "metadata": {},
   "outputs": [
    {
     "name": "stdout",
     "output_type": "stream",
     "text": [
      "Pass\n",
      "Fail\n"
     ]
    }
   ],
   "source": [
    "public static void printGradeStatus(int score){\n",
    "    if(score >= 60){\n",
    "        System.out.println(\"Pass\");\n",
    "    }else{\n",
    "        System.out.println(\"Fail\");\n",
    "    }\n",
    "}\n",
    "\n",
    "printGradeStatus(61);\n",
    "printGradeStatus(59);"
   ]
  }
 ],
 "metadata": {
  "kernelspec": {
   "display_name": "Java",
   "language": "java",
   "name": "java"
  },
  "language_info": {
   "codemirror_mode": "java",
   "file_extension": ".jshell",
   "mimetype": "text/x-java-source",
   "name": "java",
   "pygments_lexer": "java",
   "version": "17.0.9+9-Ubuntu-120.04"
  }
 },
 "nbformat": 4,
 "nbformat_minor": 2
}
