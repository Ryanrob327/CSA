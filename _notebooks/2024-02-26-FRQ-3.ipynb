{
 "cells": [
  {
   "cell_type": "markdown",
   "metadata": {},
   "source": [
    "---\n",
    "comments: true\n",
    "layout: post\n",
    "title: FRQ 3 - Array Lists\n",
    "description: A question on Array Lists.\n",
    "courses: { calendar: {week: 24} }\n",
    "type: hacks\n",
    "---"
   ]
  },
  {
   "cell_type": "markdown",
   "metadata": {},
   "source": [
    "## a.\n",
    "\n",
    "Write the SparseArray method getValueAt. The method returns the value of the sparse array element at a given row and column in the sparse array. If the list entries contains an entry with the specified row and column, the value associated with the entry is returned. If there is no entry in entries corresponding to the specified row and column, 0 is returned.\n",
    "In the example above, the call sparse.getValueAt(3, 1) would return -9, and sparse.getValueAt(3, 3) would return 0."
   ]
  },
  {
   "cell_type": "code",
   "execution_count": 15,
   "metadata": {
    "vscode": {
     "languageId": "java"
    }
   },
   "outputs": [
    {
     "name": "stdout",
     "output_type": "stream",
     "text": [
      "(3, 1): -9\n",
      "(3, 3): 0\n"
     ]
    }
   ],
   "source": [
    "import java.util.ArrayList;\n",
    "\n",
    "class SparseArrayEntry {\n",
    "    private int row;\n",
    "    private int col;\n",
    "    private int value;\n",
    "\n",
    "    public SparseArrayEntry(int row, int col, int value) {\n",
    "        this.row = row;\n",
    "        this.col = col;\n",
    "        this.value = value;\n",
    "    }\n",
    "    public int getRow() {\n",
    "        return row;\n",
    "    }\n",
    "    public int getCol() {\n",
    "        return col;\n",
    "    }\n",
    "    public int getValue() {\n",
    "        return value;\n",
    "    }\n",
    "}\n",
    "\n",
    "class SparseArray {\n",
    "    private ArrayList<SparseArrayEntry> entries;\n",
    "\n",
    "    public SparseArray() {\n",
    "        entries = new ArrayList<>();\n",
    "    }\n",
    "    public void addEntry(SparseArrayEntry entry) {\n",
    "        entries.add(entry);\n",
    "    }\n",
    "    // FRQ method part a, asking for getValueAt\n",
    "    public int getValueAt(int row, int col) {\n",
    "        for (SparseArrayEntry e : entries) {\n",
    "            if (e.getRow() == row && e.getCol() == col) {\n",
    "                return e.getValue();\n",
    "            }\n",
    "        }\n",
    "        return 0;\n",
    "    }\n",
    "}\n",
    "\n",
    "SparseArray sparse = new SparseArray();\n",
    "\n",
    "// Adding some entries for testing\n",
    "sparse.addEntry(new SparseArrayEntry(1, 1, 5));\n",
    "sparse.addEntry(new SparseArrayEntry(2, 2, -3));\n",
    "sparse.addEntry(new SparseArrayEntry(3, 1, -9));\n",
    "\n",
    "// Testing the getValueAt method\n",
    "System.out.println(\"(3, 1): \" + sparse.getValueAt(3, 1)); // Output: -9\n",
    "System.out.println(\"(3, 3): \" + sparse.getValueAt(3, 3)); // Output: 0"
   ]
  },
  {
   "cell_type": "markdown",
   "metadata": {},
   "source": [
    "## b.\n",
    "\n",
    "Write the SparseArray method removeColumn. After removing a specified column from a sparsearray:\n",
    "\n",
    "- All entries in the list entries with column indexes matching col are removed from the list.\n",
    "\n",
    "- All entries in the list entries with column indexes greater than col are replaced by entries with column indexes that are decremented by one (moved one column to the left).\n",
    "\n",
    "- The number of columns in the sparse array is adjusted to reflect the column removed."
   ]
  },
  {
   "cell_type": "code",
   "execution_count": 14,
   "metadata": {
    "vscode": {
     "languageId": "java"
    }
   },
   "outputs": [
    {
     "name": "stdout",
     "output_type": "stream",
     "text": [
      "(1, 1): 5\n",
      "(1, 2): 0\n",
      "(2, 2): 0\n",
      "(3, 1): -9\n",
      "(3, 3): 2\n",
      "NumRows: 3\n",
      "NumCols: 2\n"
     ]
    }
   ],
   "source": [
    "import java.util.ArrayList;\n",
    "import java.util.Iterator;\n",
    "\n",
    "class SparseArrayEntry {\n",
    "    private int row;\n",
    "    private int col;\n",
    "    private int value;\n",
    "\n",
    "    public SparseArrayEntry(int row, int col, int value) {\n",
    "        this.row = row;\n",
    "        this.col = col;\n",
    "        this.value = value;\n",
    "    }\n",
    "\n",
    "    public int getRow() {\n",
    "        return row;\n",
    "    }\n",
    "\n",
    "    public int getCol() {\n",
    "        return col;\n",
    "    }\n",
    "\n",
    "    public int getValue() {\n",
    "        return value;\n",
    "    }\n",
    "}\n",
    "\n",
    "class SparseArray {\n",
    "    private ArrayList<SparseArrayEntry> entries;\n",
    "    private int numRows;\n",
    "    private int numCols;\n",
    "\n",
    "    public SparseArray(int numRows, int numCols) {\n",
    "        entries = new ArrayList<>();\n",
    "        this.numRows = numRows;\n",
    "        this.numCols = numCols;\n",
    "    }\n",
    "\n",
    "    public void addEntry(SparseArrayEntry entry) {\n",
    "        entries.add(entry);\n",
    "    }\n",
    "\n",
    "    public void removeColumn(int col) {\n",
    "        Iterator<SparseArrayEntry> iterator = entries.iterator();\n",
    "        while (iterator.hasNext()) {\n",
    "            SparseArrayEntry entry = iterator.next();\n",
    "            if (entry.getCol() == col) {\n",
    "                iterator.remove();\n",
    "            } else if (entry.getCol() > col) {\n",
    "                entry = new SparseArrayEntry(entry.getRow(), entry.getCol() - 1, entry.getValue());\n",
    "            }\n",
    "        }\n",
    "        numCols--; // change the # of columns\n",
    "\n",
    "        \n",
    "    }\n",
    "\n",
    "    public int getValueAt(int row, int col) {\n",
    "        for (SparseArrayEntry e : entries) {\n",
    "            if (e.getRow() == row && e.getCol() == col) {\n",
    "                return e.getValue();\n",
    "            }\n",
    "        }\n",
    "        return 0;\n",
    "    }\n",
    "\n",
    "    public int getNumRows() {\n",
    "        return numRows;\n",
    "    }\n",
    "\n",
    "    public int getNumCols() {\n",
    "        return numCols;\n",
    "    }\n",
    "}\n",
    "\n",
    "SparseArray sparse = new SparseArray(3, 3);\n",
    "\n",
    "// testing the program\n",
    "sparse.addEntry(new SparseArrayEntry(1, 1, 5));\n",
    "sparse.addEntry(new SparseArrayEntry(1, 2, 7));\n",
    "sparse.addEntry(new SparseArrayEntry(2, 2, -3));\n",
    "sparse.addEntry(new SparseArrayEntry(3, 1, -9));\n",
    "sparse.addEntry(new SparseArrayEntry(3, 3, 2));\n",
    "\n",
    "// REMOVE COLUMN 2\n",
    "sparse.removeColumn(2);\n",
    "\n",
    "// Testing the getValueAt method\n",
    "System.out.println(\"(1, 1): \" + sparse.getValueAt(1, 1)); // Output: 5\n",
    "System.out.println(\"(1, 2): \" + sparse.getValueAt(1, 2)); // Output: 0 (removed)\n",
    "System.out.println(\"(2, 2): \" + sparse.getValueAt(2, 2)); // Output: 0 (also removed)\n",
    "System.out.println(\"(3, 1): \" + sparse.getValueAt(3, 1)); // Output: -9\n",
    "System.out.println(\"(3, 3): \" + sparse.getValueAt(3, 3)); // Output: 2\n",
    "\n",
    "System.out.println(\"NumRows: \" + sparse.getNumRows()); // Output: 3\n",
    "System.out.println(\"NumCols: \" + sparse.getNumCols()); // Output: 2"
   ]
  }
 ],
 "metadata": {
  "kernelspec": {
   "display_name": "Java",
   "language": "java",
   "name": "java"
  },
  "language_info": {
   "codemirror_mode": "java",
   "file_extension": ".jshell",
   "mimetype": "text/x-java-source",
   "name": "Java",
   "pygments_lexer": "java",
   "version": "17.0.9+9-Ubuntu-120.04"
  }
 },
 "nbformat": 4,
 "nbformat_minor": 2
}
