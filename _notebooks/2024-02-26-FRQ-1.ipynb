{
 "cells": [
  {
   "cell_type": "markdown",
   "metadata": {},
   "source": [
    "---\n",
    "comments: true\n",
    "layout: post\n",
    "title: FRQ 1 - 2D Arrays\n",
    "description: A question on 2D Arrays.\n",
    "courses: { calendar: {week: 24} }\n",
    "type: hacks\n",
    "---"
   ]
  },
  {
   "cell_type": "markdown",
   "metadata": {},
   "source": [
    "## a.\n",
    "\n",
    "Write a static method arraySum that calculates and returns the sum of the entries in a specified one-dimensional array. The following example shows an array arr1 and the value returned by a call to arraySum"
   ]
  },
  {
   "cell_type": "code",
   "execution_count": 1,
   "metadata": {
    "vscode": {
     "languageId": "java"
    }
   },
   "outputs": [
    {
     "name": "stdout",
     "output_type": "stream",
     "text": [
      "16\n"
     ]
    }
   ],
   "source": [
    "/** Returns the sum of the entries in the one-dimensional array arr. \n",
    "*/\n",
    "\n",
    "public static int arraySum (int[] arr){\n",
    "    int sum = 0;\n",
    "    for (int i = 0; i < arr.length; i++) {\n",
    "        sum += arr[i];\n",
    "    }\n",
    "    return sum;\n",
    "}\n",
    "\n",
    "\n",
    "System.out.println(arraySum(new int[]{1,3,2,7,3}));"
   ]
  },
  {
   "cell_type": "markdown",
   "metadata": {},
   "source": [
    "## b.\n",
    "\n",
    "Write a static method rowSums that calculates the sums of each of the rows in a given two-dimensional array and returns these sums in a one-dimensional array. The method has one parameter, a two-dimensional array arr2D of int values. The array is in row-major order: arr2D [ r ] [ c ] is the entry at row r and column c. The method returns a one-dimensional array with one entry for each row of arr2D such that each entry is the sum of the corresponding row in arr2D. As a reminder, each row of a two-dimensional array is a one-dimensional array."
   ]
  },
  {
   "cell_type": "code",
   "execution_count": 6,
   "metadata": {
    "vscode": {
     "languageId": "java"
    }
   },
   "outputs": [
    {
     "name": "stdout",
     "output_type": "stream",
     "text": [
      "16 32 28 20 "
     ]
    }
   ],
   "source": [
    "/** Returns a one-dimensional array in which the entry at index k is the sum of\n",
    "* the entries of row k of the two-dimensional array arr2D.\n",
    "*/\n",
    "\n",
    "public static int[] rowSums(int[][] arr2D) {\n",
    "    int numRows = arr2D.length;\n",
    "    int[] sums = new int[numRows];\n",
    "\n",
    "    for (int i = 0; i < numRows; i++) {\n",
    "        sums[i] = arraySum(arr2D[i]);\n",
    "    }\n",
    "\n",
    "    return sums;\n",
    "}\n",
    "\n",
    "\n",
    "int[][] arr2D = {\n",
    "    {1, 3, 2, 7, 3},\n",
    "    {10, 10, 4, 6, 2},\n",
    "    {5, 3, 5, 9, 6},\n",
    "    {7, 6, 4, 2, 1}\n",
    "};\n",
    "\n",
    "int[] rowSumsArray = rowSums(arr2D);\n",
    "\n",
    "for (int sum : rowSumsArray) {\n",
    "    System.out.print(sum + \" \");\n",
    "}"
   ]
  },
  {
   "cell_type": "markdown",
   "metadata": {},
   "source": [
    "## c.\n",
    "\n",
    "Write a static method isDiverse that determines whether or not a given two-dimensional array is diverse. The method has one parameter: a two-dimensional array arr2D of int values. The method should return true if all the row sums in the given array are unique; otherwise, it should return false. In the arrays shown above, the call isDiverse (mat1) returns true and the call isDiverse(mat2) returns false"
   ]
  },
  {
   "cell_type": "code",
   "execution_count": 7,
   "metadata": {
    "vscode": {
     "languageId": "java"
    }
   },
   "outputs": [
    {
     "name": "stdout",
     "output_type": "stream",
     "text": [
      "Is mat1 diverse? true\n",
      "Is mat2 diverse? false\n"
     ]
    }
   ],
   "source": [
    "public static boolean isDiverse(int[][] arr2D) {\n",
    "    int[] rowSumsArray = rowSums(arr2D);\n",
    "\n",
    "    // Check for uniqueness of row sums\n",
    "    for (int i = 0; i < rowSumsArray.length - 1; i++) {\n",
    "        for (int j = i + 1; j < rowSumsArray.length; j++) {\n",
    "            if (rowSumsArray[i] == rowSumsArray[j]) {\n",
    "                return false; // If any two row sums are equal, return false\n",
    "            }\n",
    "        }\n",
    "    }\n",
    "\n",
    "    return true; // If all row sums are unique, return true\n",
    "}\n",
    "\n",
    "int[][] mat1 = {\n",
    "    {1, 3, 2, 7, 3},\n",
    "    {10, 10, 4, 6, 2},\n",
    "    {5, 3, 5, 9, 6},\n",
    "    {7, 6, 4, 2, 1}\n",
    "};\n",
    "\n",
    "int[][] mat2 = {\n",
    "    {1, 1, 5, 3, 4},\n",
    "    {12, 7, 6, 1, 9},\n",
    "    {8, 11, 10, 2, 5},\n",
    "    {3, 2, 3, 0, 6}\n",
    "};\n",
    "\n",
    "System.out.println(\"Is mat1 diverse? \" + isDiverse(mat1)); // Should print true\n",
    "System.out.println(\"Is mat2 diverse? \" + isDiverse(mat2)); // Should print false"
   ]
  }
 ],
 "metadata": {
  "kernelspec": {
   "display_name": "Java",
   "language": "java",
   "name": "java"
  },
  "language_info": {
   "codemirror_mode": "java",
   "file_extension": ".jshell",
   "mimetype": "text/x-java-source",
   "name": "Java",
   "pygments_lexer": "java",
   "version": "17.0.9+9-Ubuntu-120.04"
  }
 },
 "nbformat": 4,
 "nbformat_minor": 2
}
