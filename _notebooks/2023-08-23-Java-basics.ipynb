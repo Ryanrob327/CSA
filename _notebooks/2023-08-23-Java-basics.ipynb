{
 "cells": [
  {
   "cell_type": "markdown",
   "metadata": {},
   "source": [
    "---\n",
    "comments: true\n",
    "layout: post\n",
    "title: Java basics\n",
    "description: a guide to the basic syntax and concepts used for the java programming language\n",
    "courses: { calendar: {week: 0} }\n",
    "type: hacks\n",
    "---"
   ]
  },
  {
   "cell_type": "markdown",
   "metadata": {},
   "source": [
    "# 1. Introduction to Java Syntax\n",
    "\n",
    "Java syntax refers to the set of rules that govern how programs are written in the Java programming language. It's crucial to understand these rules to write correct and meaningful code.\n",
    "\n",
    "Java programs are composed of classes, and each class contains methods that define the program's behavior. The entry point of a Java program is the main method, which has the following syntax:"
   ]
  },
  {
   "cell_type": "code",
   "execution_count": 1,
   "metadata": {
    "vscode": {
     "languageId": "java"
    }
   },
   "outputs": [],
   "source": [
    "public static void main(String[] args) {\n",
    "    // Code to be executed\n",
    "}"
   ]
  },
  {
   "cell_type": "markdown",
   "metadata": {},
   "source": [
    "# 2. Variables and Data Types\n",
    "\n",
    "Variables are used to store data in a Java program. Each variable has a data type that defines the type of value it can hold. Java has primitive data types (e.g., int, double, boolean) and reference data types (e.g., String, custom classes)."
   ]
  },
  {
   "cell_type": "code",
   "execution_count": 2,
   "metadata": {
    "vscode": {
     "languageId": "java"
    }
   },
   "outputs": [],
   "source": [
    "int age = 25;\n",
    "double pi = 3.14159;\n",
    "boolean isStudent = true;\n",
    "String name = \"Alice\";"
   ]
  },
  {
   "cell_type": "markdown",
   "metadata": {},
   "source": [
    "# 3. Control Structures\n",
    "\n",
    "Control structures enable you to make decisions and repeat actions in your program.\n",
    "\n",
    "## Conditional Statements (if-else)"
   ]
  },
  {
   "cell_type": "code",
   "execution_count": 3,
   "metadata": {
    "vscode": {
     "languageId": "java"
    }
   },
   "outputs": [
    {
     "name": "stdout",
     "output_type": "stream",
     "text": [
      "Number is positive\n"
     ]
    }
   ],
   "source": [
    "int num = 10;\n",
    "if (num > 0) {\n",
    "    System.out.println(\"Number is positive\");\n",
    "} else {\n",
    "    System.out.println(\"Number is non-positive\");\n",
    "}"
   ]
  },
  {
   "cell_type": "markdown",
   "metadata": {},
   "source": [
    "## Loops (for, while)"
   ]
  },
  {
   "cell_type": "code",
   "execution_count": 4,
   "metadata": {
    "vscode": {
     "languageId": "java"
    }
   },
   "outputs": [
    {
     "name": "stdout",
     "output_type": "stream",
     "text": [
      "Iteration: 0\n",
      "Iteration: 1\n",
      "Iteration: 2\n",
      "Iteration: 3\n",
      "Iteration: 4\n",
      "Count: 0\n",
      "Count: 1\n",
      "Count: 2\n"
     ]
    }
   ],
   "source": [
    "for (int i = 0; i < 5; i++) {\n",
    "    System.out.println(\"Iteration: \" + i);\n",
    "}\n",
    "\n",
    "int count = 0;\n",
    "while (count < 3) {\n",
    "    System.out.println(\"Count: \" + count);\n",
    "    count++;\n",
    "}"
   ]
  },
  {
   "cell_type": "markdown",
   "metadata": {},
   "source": [
    "# 4. Functions (Methods)\n",
    "\n",
    "Functions, or methods, are blocks of code that perform a specific task. They help in modularizing code and promoting reusability."
   ]
  },
  {
   "cell_type": "code",
   "execution_count": 5,
   "metadata": {
    "vscode": {
     "languageId": "java"
    }
   },
   "outputs": [
    {
     "name": "stdout",
     "output_type": "stream",
     "text": [
      "Result: 8\n"
     ]
    }
   ],
   "source": [
    "// Method declaration\n",
    "public static int add(int a, int b) {\n",
    "    return a + b;\n",
    "}\n",
    "\n",
    "// Method call\n",
    "int result = add(5, 3);\n",
    "System.out.println(\"Result: \" + result);"
   ]
  },
  {
   "cell_type": "markdown",
   "metadata": {},
   "source": [
    "# 5. Object-Oriented Concepts\n",
    "\n",
    "Java is an object-oriented programming language. It uses classes and objects to structure code.\n",
    "\n",
    "## Class Definition"
   ]
  },
  {
   "cell_type": "code",
   "execution_count": 6,
   "metadata": {
    "vscode": {
     "languageId": "java"
    }
   },
   "outputs": [],
   "source": [
    "class Circle {\n",
    "    double radius;\n",
    "\n",
    "    double calculateArea() {\n",
    "        return 3.14159 * radius * radius;\n",
    "    }\n",
    "}"
   ]
  },
  {
   "cell_type": "markdown",
   "metadata": {},
   "source": [
    "## Object Creation and Usage"
   ]
  },
  {
   "cell_type": "code",
   "execution_count": 7,
   "metadata": {
    "vscode": {
     "languageId": "java"
    }
   },
   "outputs": [
    {
     "name": "stdout",
     "output_type": "stream",
     "text": [
      "Area: 78.53975\n"
     ]
    }
   ],
   "source": [
    "Circle myCircle = new Circle();\n",
    "myCircle.radius = 5.0;\n",
    "double area = myCircle.calculateArea();\n",
    "System.out.println(\"Area: \" + area);"
   ]
  }
 ],
 "metadata": {
  "kernelspec": {
   "display_name": "Java",
   "language": "java",
   "name": "java"
  },
  "language_info": {
   "codemirror_mode": "java",
   "file_extension": ".jshell",
   "mimetype": "text/x-java-source",
   "name": "Java",
   "pygments_lexer": "java",
   "version": "11.0.20+8-post-Ubuntu-1ubuntu120.04"
  },
  "orig_nbformat": 4
 },
 "nbformat": 4,
 "nbformat_minor": 2
}
