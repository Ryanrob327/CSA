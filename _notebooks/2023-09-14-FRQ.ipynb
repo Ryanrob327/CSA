{
 "cells": [
  {
   "cell_type": "markdown",
   "metadata": {},
   "source": [
    "---\n",
    "comments: true\n",
    "layout: post\n",
    "title: FRQ question\n",
    "description: My answer and corrections for FRQ question 2 from 2022\n",
    "courses: { calendar: {week: 4} }\n",
    "type: hacks\n",
    "---"
   ]
  },
  {
   "cell_type": "markdown",
   "metadata": {},
   "source": [
    "# Question 2\n",
    "### Provided code:"
   ]
  },
  {
   "cell_type": "code",
   "execution_count": 24,
   "metadata": {
    "vscode": {
     "languageId": "java"
    }
   },
   "outputs": [],
   "source": [
    "public class Book{\n",
    "\n",
    "    // Title of the book\n",
    "    private String title;\n",
    "\n",
    "    // price of the book\n",
    "    private double price;\n",
    "\n",
    "    // Creates a new Book with given title and price\n",
    "    public Book(String bookTitle, double bookPrice){\n",
    "\n",
    "    }\n",
    "    // Returns the title of the book\n",
    "    public String getTitle(){\n",
    "        return this.title;\n",
    "    }\n",
    "    // Returns a string containing the title and price of the Book\n",
    "    public String getBookInfo(){\n",
    "        return title + \"-\" + price;\n",
    "    }\n",
    "    // There may be instance variables, constructors, and methods that are not shown.\n",
    "    \n",
    "}"
   ]
  },
  {
   "cell_type": "markdown",
   "metadata": {},
   "source": [
    "## Prompt\n",
    "\n",
    "You will write a class Textbook, which is a subclass of Book.\n",
    "\n",
    "A Textbook has an edition number, which is a positive integer used to identify different version of the book. The getBookInfo method, when called on a Textbook, returns a string that also includes the edition information, as shown in the example.\n",
    "\n",
    "Information about the book title and price must be maintained in the book class. Information about the edition must be maintained in the Textbook class.\n",
    "\n",
    "The Textbook class contains an additional method, canSubstituteFor, which returns true if a Textbook is a valid substitute for the two Textbook objects have the same title and if the edition of the current Textbook is greater than or equal to the edition of the parameter.\n",
    "\n",
    "## Answer"
   ]
  },
  {
   "cell_type": "code",
   "execution_count": 30,
   "metadata": {
    "vscode": {
     "languageId": "java"
    }
   },
   "outputs": [
    {
     "ename": "CompilationException",
     "evalue": "",
     "output_type": "error",
     "traceback": [
      "\u001b[1m\u001b[30m|   \u001b[1m\u001b[30m\u001b[0m\u001b[1m\u001b[30m\u001b[41mMainApp.main\u001b[0m\u001b[1m\u001b[30m()\u001b[0m",
      "\u001b[1m\u001b[31mmethod main in class MainApp cannot be applied to given types;\u001b[0m",
      "\u001b[1m\u001b[31m  required: java.lang.String[]\u001b[0m",
      "\u001b[1m\u001b[31m  found: no arguments\u001b[0m",
      "\u001b[1m\u001b[31m  reason: actual and formal argument lists differ in length\u001b[0m",
      ""
     ]
    }
   ],
   "source": [
    "public class Textbook extends Book{\n",
    "\n",
    "    private int edition;\n",
    "\n",
    "    public Textbook(String tbTitle, double tbPrice,int tbEdition){\n",
    "        super(tbTitle, tbPrice);\n",
    "        edition = tbEdition;\n",
    "    }\n",
    "    public int getEdition(){\n",
    "        return edition;\n",
    "    }\n",
    "    public boolean canSubstituteFor(Textbook other){\n",
    "        return other.getTitle().equals(getTitle()) &&\n",
    "        this.edition >= other.getEdition();\n",
    "    }\n",
    "    public String getBookInfo(){\n",
    "        return super.getBookInfo() + \"–\" + edition;\n",
    "    }\n",
    "}\n",
    "\n",
    "\n",
    "public class MainApp {\n",
    "    public static void main(String[] args) {\n",
    "        Textbook CSP = new Textbook(\"CSP Book\", 99.99, 1);\n",
    "        Textbook CSA = new Textbook(\"CSA Book\", 99.99, 2);\n",
    "\n",
    "        // Testing the getBookInfo method\n",
    "        String version = CSA.getBookInfo();\n",
    "        System.out.println(\"CSA info: \" + version);\n",
    "\n",
    "        // Testing the canSubstituteFor method\n",
    "        boolean sub = CSA.canSubstituteFor(CSP);\n",
    "        System.out.println(\"Is CSP a valid substitute for CSA: \" + sub);\n",
    "    }\n",
    "}\n",
    "\n",
    "MainApp run = new MainApp();\n",
    "MainApp.main()\n"
   ]
  },
  {
   "cell_type": "markdown",
   "metadata": {},
   "source": [
    "## Points\n",
    "\n",
    "1. Declares class header 1/1\n",
    "2. Declares constructor header 1/1\n",
    "3. Constructor class super as the first line with appropriate parameters 1/1\n",
    "4. Declares appropriate private instance variable and uses appropriate parameter to initialize it 1/1\n",
    "5. Declares at least one required method and all declared headers are correct 1/1\n",
    "6. getEdition returns value of instance variable 0/1\n",
    "   - did not correctly read directions\n",
    "7. canSubstituteFor determines whether true or false should be returned based on comparison of book titles and editions 1/1\n",
    "8. getBookInfo calls super.getBookInfo 1/1\n",
    "9.  Constructs information string 1/1\n",
    "\n",
    "## Takeaways\n",
    "\n",
    "- 'extends' creates a subclass\n",
    "- use constructors to define variables\n",
    "- use super to get variable from super class"
   ]
  }
 ],
 "metadata": {
  "kernelspec": {
   "display_name": "Java",
   "language": "java",
   "name": "java"
  },
  "language_info": {
   "codemirror_mode": "java",
   "file_extension": ".jshell",
   "mimetype": "text/x-java-source",
   "name": "Java",
   "pygments_lexer": "java",
   "version": "11.0.20+8-post-Ubuntu-1ubuntu120.04"
  },
  "orig_nbformat": 4
 },
 "nbformat": 4,
 "nbformat_minor": 2
}
