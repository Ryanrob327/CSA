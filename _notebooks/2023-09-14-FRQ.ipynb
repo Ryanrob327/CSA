{
 "cells": [
  {
   "cell_type": "markdown",
   "metadata": {},
   "source": [
    "---\n",
    "comments: true\n",
    "layout: post\n",
    "title: FRQ question\n",
    "description: My answer and corrections for FRQ question 2 from 2022\n",
    "courses: { calendar: {week: 4} }\n",
    "type: hacks\n",
    "---"
   ]
  },
  {
   "cell_type": "markdown",
   "metadata": {},
   "source": [
    "# Question 2\n",
    "### Provided code:"
   ]
  },
  {
   "cell_type": "code",
   "execution_count": null,
   "metadata": {},
   "outputs": [],
   "source": [
    "public class Book{\n",
    "\n",
    "    // Title of the book\n",
    "    private String title;\n",
    "\n",
    "    // price of the book\n",
    "    private double price;\n",
    "\n",
    "    // Creates a new Book with given title and price\n",
    "    public Book(String bookTitle, double bookPrice){\n",
    "\n",
    "    }\n",
    "    // Returns the title of the book\n",
    "    public String getTitle(){\n",
    "\n",
    "    }\n",
    "    // Returns a string containing the title and price of the Book\n",
    "    public String getBookInfo(){\n",
    "        return title + \"-\" + price;\n",
    "    }\n",
    "    // There may be instance variables, constructors, and methods that are not shown.\n",
    "    \n",
    "}"
   ]
  },
  {
   "cell_type": "markdown",
   "metadata": {},
   "source": [
    "## Prompt\n",
    "\n",
    "You will write a class Textbook, which is a subclass of Book.\n",
    "\n",
    "A Textbook has an edition number, which is a positive integer used to identify different version of the book. The getBookInfo method, when called on a Textbook, returns a string that also includes the edition information, as shown in the example.\n",
    "\n",
    "Information about the book title and price must be maintained in the book class. Information about the edition must be maintained in the Textbook class.\n",
    "\n",
    "The Textbook class contains an additional method, canSubstituteFor, which returns true if a Textbook is a valid substitute for the two Textbook objects have the same title and if the edition of the current Textbook is greater than or equal to the edition of the parameter.\n",
    "\n",
    "## Answer"
   ]
  },
  {
   "cell_type": "code",
   "execution_count": null,
   "metadata": {},
   "outputs": [],
   "source": [
    "public class Textbook extends Book{\n",
    "    private String title = \"CSA Book\";\n",
    "\n",
    "    private Double price = 99.99;\n",
    "\n",
    "    private Integer edition = 1;\n",
    "\n",
    "\n",
    "    public Textbook(String Title, double Price, int Edition){\n",
    "        super(Title, Price);\n",
    "        edition = Edition;\n",
    "    }\n",
    "    public String getBookInfo(Integer edition){\n",
    "        Integer.toString(edition)\n",
    "        return edition\n",
    "    }\n",
    "    public Boolean canSubstituteFor(Textbook other){\n",
    "        return other.getTitle().equals(getTitle()) &&\n",
    "        edition >= other.getEdition();\n",
    "    }\n",
    "}"
   ]
  },
  {
   "cell_type": "markdown",
   "metadata": {},
   "source": [
    "## Corrections"
   ]
  }
 ],
 "metadata": {
  "kernelspec": {
   "display_name": "Java",
   "language": "java",
   "name": "java"
  },
  "language_info": {
   "name": "java"
  },
  "orig_nbformat": 4
 },
 "nbformat": 4,
 "nbformat_minor": 2
}
