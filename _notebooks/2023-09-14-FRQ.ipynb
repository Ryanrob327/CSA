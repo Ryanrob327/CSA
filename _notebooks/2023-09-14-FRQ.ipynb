{
 "cells": [
  {
   "cell_type": "markdown",
   "metadata": {},
   "source": [
    "---\n",
    "comments: true\n",
    "layout: post\n",
    "title: FRQ question\n",
    "description: My answer and corrections for FRQ question 2 from 2022\n",
    "courses: { calendar: {week: 4} }\n",
    "type: hacks\n",
    "---"
   ]
  },
  {
   "cell_type": "markdown",
   "metadata": {},
   "source": [
    "- [See my video here](https://youtu.be/gtYY1xO4bZc)\n",
    "\n",
    "# Question 2\n",
    "### Provided code:"
   ]
  },
  {
   "cell_type": "code",
   "execution_count": 6,
   "metadata": {},
   "outputs": [],
   "source": [
    "public class Book{\n",
    "\n",
    "    // Title of the book\n",
    "    private String title;\n",
    "\n",
    "    // price of the book\n",
    "    private double price;\n",
    "\n",
    "    // Creates a new Book with given title and price\n",
    "    public Book(String bookTitle, double bookPrice){\n",
    "\n",
    "    }\n",
    "    // Returns the title of the book\n",
    "    public String getTitle(){\n",
    "        return this.title;\n",
    "    }\n",
    "    // Returns a string containing the title and price of the Book\n",
    "    public String getBookInfo(){\n",
    "        return title + \"-\" + price;\n",
    "    }\n",
    "    // There may be instance variables, constructors, and methods that are not shown.\n",
    "    \n",
    "}"
   ]
  },
  {
   "cell_type": "markdown",
   "metadata": {},
   "source": [
    "## Prompt\n",
    "\n",
    "You will write a class Textbook, which is a subclass of Book.\n",
    "\n",
    "A Textbook has an edition number, which is a positive integer used to identify different version of the book. The getBookInfo method, when called on a Textbook, returns a string that also includes the edition information, as shown in the example.\n",
    "\n",
    "Information about the book title and price must be maintained in the book class. Information about the edition must be maintained in the Textbook class.\n",
    "\n",
    "The Textbook class contains an additional method, canSubstituteFor, which returns true if a Textbook is a valid substitute for the two Textbook objects have the same title and if the edition of the current Textbook is greater than or equal to the edition of the parameter.\n",
    "\n",
    "## Answer"
   ]
  },
  {
   "cell_type": "code",
   "execution_count": 8,
   "metadata": {},
   "outputs": [
    {
     "name": "stdout",
     "output_type": "stream",
     "text": [
      "Is CSP a valid substitute for CSA: false\n"
     ]
    }
   ],
   "source": [
    "public class Textbook extends Book{\n",
    "\n",
    "    private int edition;\n",
    "\n",
    "    public Textbook(String tbTitle, double tbPrice,int tbEdition){\n",
    "        super(tbTitle, tbPrice);\n",
    "        edition = tbEdition;\n",
    "    }\n",
    "    public int getEdition(){\n",
    "        return edition;\n",
    "    }\n",
    "    public boolean canSubstituteFor(int otherEdition, String otherTitle){\n",
    "        return otherTitle.equals(getTitle()) && this.edition >= otherEdition;\n",
    "    }\n",
    "    public String getBookInfo(){\n",
    "        return super.getBookInfo() + \"–\" + edition;\n",
    "    }\n",
    "}\n",
    "\n",
    "\n",
    "Textbook CSP = new Textbook(\"CSP Book\", 99.99, 1);\n",
    "Textbook CSA = new Textbook(\"CSA Book\", 99.99, 2);\n",
    "\n",
    "// Testing the canSubstituteFor method\n",
    "boolean sub = CSA.canSubstituteFor(1, \"CSP Book\");\n",
    "System.out.println(\"Is CSP a valid substitute for CSA: \" + sub);"
   ]
  },
  {
   "cell_type": "markdown",
   "metadata": {},
   "source": [
    "## Points\n",
    "\n",
    "1. Declares class header 1/1\n",
    "2. Declares constructor header 1/1\n",
    "3. Constructor class super as the first line with appropriate parameters 1/1\n",
    "4. Declares appropriate private instance variable and uses appropriate parameter to initialize it 1/1\n",
    "5. Declares at least one required method and all declared headers are correct 1/1\n",
    "6. getEdition returns value of instance variable 0/1 -- fixed 1/1\n",
    "   - did not correctly read directions\n",
    "7. canSubstituteFor determines whether true or false should be returned based on comparison of book titles and editions 1/1\n",
    "8. getBookInfo calls super.getBookInfo 1/1\n",
    "9.  Constructs information string 1/1\n",
    "\n",
    "Initial score: 8/9\n",
    "\n",
    "## Takeaways\n",
    "\n",
    "- 'extends' creates a subclass\n",
    "- use constructors to define variables\n",
    "- use super to get variable from super class\n",
    "\n",
    "## Ryan 0.9\n",
    "\n",
    "- good talking volume\n",
    "- could have more in depth descriptions"
   ]
  }
 ],
 "metadata": {
  "kernelspec": {
   "display_name": "Java",
   "language": "java",
   "name": "java"
  },
  "language_info": {
   "codemirror_mode": "java",
   "file_extension": ".jshell",
   "mimetype": "text/x-java-source",
   "name": "java",
   "pygments_lexer": "java",
   "version": "11.0.20+8-post-Ubuntu-1ubuntu120.04"
  },
  "orig_nbformat": 4
 },
 "nbformat": 4,
 "nbformat_minor": 2
}
