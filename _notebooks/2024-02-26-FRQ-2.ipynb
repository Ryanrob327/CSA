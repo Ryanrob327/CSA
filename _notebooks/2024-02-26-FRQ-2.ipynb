{
 "cells": [
  {
   "cell_type": "markdown",
   "metadata": {},
   "source": [
    "---\n",
    "comments: true\n",
    "layout: post\n",
    "title: FRQ 2 - Classes\n",
    "description: A question on Classes.\n",
    "courses: { calendar: {week: 24} }\n",
    "type: hacks\n",
    "---"
   ]
  },
  {
   "cell_type": "markdown",
   "metadata": {},
   "source": [
    "Consider a guessing game in which a player tries to guess a hidden word. The hidden word contains only capital letters and has a length known to the player. A guess contains only capital letters and has the same length as the hidden word.\n",
    "\n",
    "After a guess is made, the player is given a hint that is based on a comparison between the hidden word and the guess. Each position in the hint contains a character that corresponds to the letter in the same position in the guess. The following rules determine the characters that appear in the hint."
   ]
  },
  {
   "cell_type": "code",
   "execution_count": 3,
   "metadata": {
    "vscode": {
     "languageId": "java"
    }
   },
   "outputs": [
    {
     "name": "stdout",
     "output_type": "stream",
     "text": [
      "Guess: AAAAA, Hint: +A+++\n",
      "Guess: HELLO, Hint: H****\n",
      "Guess: HEART, Hint: H*++*\n",
      "Guess: HARMS, Hint: HAR*S\n",
      "Guess: HARPS, Hint: HARPS\n"
     ]
    }
   ],
   "source": [
    "public class HiddenWord {\n",
    "    private String hiddenWord;\n",
    "\n",
    "    public HiddenWord(String hiddenWord) {\n",
    "        this.hiddenWord = hiddenWord;\n",
    "    }\n",
    "\n",
    "    public String getHint(String guess) {\n",
    "        StringBuilder hint = new StringBuilder();\n",
    "\n",
    "        for (int i = 0; i < hiddenWord.length(); i++) {\n",
    "            char guessChar = guess.charAt(i);\n",
    "            char hiddenChar = hiddenWord.charAt(i);\n",
    "\n",
    "            if (guessChar == hiddenChar) {\n",
    "                hint.append(hiddenChar); // Matching letter\n",
    "            } else if (hiddenWord.indexOf(guessChar) != -1) {\n",
    "                hint.append(\"+\"); // Matching letter in a different position\n",
    "            } else {\n",
    "                hint.append(\"*\"); // Not in the hidden word\n",
    "            }\n",
    "        }\n",
    "\n",
    "        return hint.toString();\n",
    "    }\n",
    "\n",
    "    public static void main(String[] args) {\n",
    "        HiddenWord puzzle = new HiddenWord(\"HARPS\");\n",
    "\n",
    "        // Test cases\n",
    "        System.out.println(\"Guess: AAAAA, Hint: \" + puzzle.getHint(\"AAAAA\")); // plus A plus plus plus\n",
    "        System.out.println(\"Guess: HELLO, Hint: \" + puzzle.getHint(\"HELLO\")); // H**** \n",
    "        System.out.println(\"Guess: HEART, Hint: \" + puzzle.getHint(\"HEART\")); // H**+*\n",
    "        System.out.println(\"Guess: HARMS, Hint: \" + puzzle.getHint(\"HARMS\")); // HAR*S\n",
    "        System.out.println(\"Guess: HARPS, Hint: \" + puzzle.getHint(\"HARPS\")); // HARPS\n",
    "    }\n",
    "}\n",
    "\n",
    "HiddenWord.main(null);"
   ]
  }
 ],
 "metadata": {
  "kernelspec": {
   "display_name": "Java",
   "language": "java",
   "name": "java"
  },
  "language_info": {
   "codemirror_mode": "java",
   "file_extension": ".jshell",
   "mimetype": "text/x-java-source",
   "name": "Java",
   "pygments_lexer": "java",
   "version": "17.0.9+9-Ubuntu-120.04"
  }
 },
 "nbformat": 4,
 "nbformat_minor": 2
}
