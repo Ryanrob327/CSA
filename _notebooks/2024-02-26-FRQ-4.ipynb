{
 "cells": [
  {
   "cell_type": "markdown",
   "metadata": {},
   "source": [
    "---\n",
    "comments: true\n",
    "layout: post\n",
    "title: FRQ 3 - Methods\n",
    "description: A question on Methods.\n",
    "courses: { calendar: {week: 24} }\n",
    "type: hacks\n",
    "---"
   ]
  },
  {
   "cell_type": "markdown",
   "metadata": {},
   "source": [
    "## a.\n",
    "\n",
    "A number group represents a group of integers defined in some way. It could be empty, or it could contain one or more integers.\n",
    "\n",
    "Write an interface named NumberGroup that represents a group of integers. The interface should have a single contains method that determines if a given integer is in the group. For example, if group1 is of type NumberGroup, and it contains only the two numbers -5 and 3, then group1.contains(-5) would return true, and group1.contains(2) would return false.\n",
    "Write the complete NumberGroup interface. It must have exactly one method."
   ]
  },
  {
   "cell_type": "code",
   "execution_count": 5,
   "metadata": {
    "vscode": {
     "languageId": "java"
    }
   },
   "outputs": [],
   "source": [
    "public interface NumberGroup {\n",
    "    boolean contains(int number);\n",
    "}"
   ]
  },
  {
   "cell_type": "markdown",
   "metadata": {},
   "source": [
    "## b.\n",
    "\n",
    "Write the complete Range class. Include all necessary instance variables and methods as well as a constructor that takes two int parameters. The first parameter represents the minimum value, and the second parameter represents the maximum value of the range. You may assume that the minimum is less than or equal to the maximum."
   ]
  },
  {
   "cell_type": "code",
   "execution_count": 6,
   "metadata": {
    "vscode": {
     "languageId": "java"
    }
   },
   "outputs": [
    {
     "name": "stdout",
     "output_type": "stream",
     "text": [
      "Does range1 contain -4: false\n",
      "Does range1 contain 0: true\n"
     ]
    }
   ],
   "source": [
    "public class Range implements NumberGroup {\n",
    "    private int min;\n",
    "    private int max;\n",
    "\n",
    "    public Range(int min, int max) {\n",
    "        this.min = min;\n",
    "        this.max = max;\n",
    "    }\n",
    "\n",
    "    @Override\n",
    "    public boolean contains(int number) {\n",
    "        return number >= min && number <= max;\n",
    "    }\n",
    "}\n",
    "\n",
    "Range range1 = new Range(-3, 2);\n",
    "System.out.println(\"Does range1 contain -4: \" + range1.contains(-4));\n",
    "System.out.println(\"Does range1 contain 0: \" + range1.contains(0));"
   ]
  },
  {
   "cell_type": "markdown",
   "metadata": {},
   "source": [
    "## c.\n",
    "\n",
    "The MultipleGroups class (not shown) represents a collection of NumberGroup objects and isa NumberGroup. The MultipleGroups class stores the number groups in the instance variable groupList (shown below), which is initialized in the constructor."
   ]
  },
  {
   "cell_type": "code",
   "execution_count": 12,
   "metadata": {
    "vscode": {
     "languageId": "java"
    }
   },
   "outputs": [
    {
     "name": "stdout",
     "output_type": "stream",
     "text": [
      "contains 7: true\n",
      "contains 9: false\n"
     ]
    }
   ],
   "source": [
    "import java.util.List;\n",
    "\n",
    "public class MultipleGroups implements NumberGroup {\n",
    "    private List<NumberGroup> groupList;\n",
    "\n",
    "    public MultipleGroups() {\n",
    "        this.groupList = new ArrayList<NumberGroup>();\n",
    "    }\n",
    "\n",
    "    public void addGroup (NumberGroup group) {\n",
    "        groupList.add(group);\n",
    "    }\n",
    "\n",
    "    @Override\n",
    "    public boolean contains(int number) {\n",
    "        for (NumberGroup group : groupList) {\n",
    "            if (group.contains(number)) {\n",
    "                return true;\n",
    "            }\n",
    "        }\n",
    "        return false;\n",
    "    }\n",
    "}\n",
    "\n",
    "MultipleGroups multiple1 = new MultipleGroups();\n",
    "multiple1.addGroup(new Range(5, 8));\n",
    "multiple1.addGroup(new Range(10, 12));\n",
    "multiple1.addGroup(new Range(1, 6));\n",
    "\n",
    "System.out.println(\"contains 7: \" + multiple1.contains(7));\n",
    "System.out.println(\"contains 9: \" + multiple1.contains(9));    "
   ]
  }
 ],
 "metadata": {
  "kernelspec": {
   "display_name": "Java",
   "language": "java",
   "name": "java"
  },
  "language_info": {
   "codemirror_mode": "java",
   "file_extension": ".jshell",
   "mimetype": "text/x-java-source",
   "name": "Java",
   "pygments_lexer": "java",
   "version": "17.0.9+9-Ubuntu-120.04"
  }
 },
 "nbformat": 4,
 "nbformat_minor": 2
}
