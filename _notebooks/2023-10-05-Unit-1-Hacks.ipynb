{
 "cells": [
  {
   "cell_type": "markdown",
   "metadata": {},
   "source": [
    "---\n",
    "comments: true\n",
    "layout: post\n",
    "title: Unit 1 Lesson Hacks\n",
    "description: hacks for unit 1 java syntax 'n stuff\n",
    "courses: { calendar: {week: 7} }\n",
    "type: hacks\n",
    "---"
   ]
  },
  {
   "cell_type": "markdown",
   "metadata": {},
   "source": [
    "## Mini Hacks\n",
    "- Complete all uncompleted code segments\n",
    "- Answer all questions in the code\n",
    "- complete the activities in the lesson blogs\n",
    "- will be scaled to 0.2 depending on the completion of your code\n",
    "\n",
    "## Main Hack\n",
    "- Use topics from 3 out of 4 of the Units\n",
    "- It has to be a 2 part style question, A and B\n",
    "- Will Be graded out of 4 points\n",
    "- Write a scoring sheet for what you have done out six points\n",
    "- Your real grade for the assigment will be based of two things\n",
    "- How creative, unique, cool your question and code is\n",
    "- Did you acheive 4/4 points for your code\n",
    "- That will be scaled to 0.8 of 1 for all your hacks\n",
    "\n",
    "## Answer to Hacks (1999 #3)\n",
    "### 3.a\n",
    "\n",
    "Write a new BigInt member function Div2, as started below. Div2 should change the value of the BigInt to be the original value divided by 2 (integer division). Assume the BigInt is greater than or equal to 0. One algorithm for implementing Div2 is:\n",
    "\n",
    "```\n",
    "1. Initialize a variable carryDown to 0.\n",
    "2. For each digit, d, starting with the most significant digit,\n",
    "    2.1 replace that digit with (d/2) + carryDown\n",
    "    2.2 let carryDown be (d%2) * 5\n",
    "3. Normalize the result\n",
    "```\n",
    "Complete member functionDiv2 below\n",
    "```\n",
    "void BigInt::Div2()\n",
    "// precondition: BigInt >= 0\n",
    "```"
   ]
  },
  {
   "cell_type": "code",
   "execution_count": null,
   "metadata": {},
   "outputs": [],
   "source": [
    "void BigInt::Div2(){\n",
    "    int carrDown = 0\n",
    "    int d;\n",
    "\n",
    "    for(int i = myNumDigits - 1, i >= 0, i--){\n",
    "        d = GetDigit(i);\n",
    "        changeDigit(i, (d/2) = carryDown);\n",
    "        carryDown = (d % 2) * 5;\n",
    "    }\n",
    "    Normalize();\n",
    "}"
   ]
  },
  {
   "cell_type": "markdown",
   "metadata": {},
   "source": [
    "### 3.b\n",
    "```\n",
    "1. Initialize low to 0 and high to dividend.\n",
    "2. For each iteration, \n",
    "    2.1 compute mid = (low + high + 1)\n",
    "    2.2 divide mid by 2\n",
    "    2.3 if mid * divisor is larger than dividend (mid is too large to be the quotient) then set high equal to mid - 1 else set low equal to mid.\n",
    "3. when low == high the search terminates, and you should return low.\n",
    "```"
   ]
  },
  {
   "cell_type": "code",
   "execution_count": null,
   "metadata": {},
   "outputs": [],
   "source": [
    "BigInt operator/ (const BigInt & dividend, const BigInt & divisor){\n",
    "    BigInt low(0), high(dividend), mid;\n",
    "    while(low != high)\n",
    "    {\n",
    "        mid = (low + high + 1);\n",
    "        mid.Div2();\n",
    "        if (mid * divisor > dividend){\n",
    "            high = mid - 1;\n",
    "        }\n",
    "        else{\n",
    "            low = mid;\n",
    "        }\n",
    "    }\n",
    "    return low;\n",
    "}"
   ]
  }
 ],
 "metadata": {
  "kernelspec": {
   "display_name": "Java",
   "language": "java",
   "name": "java"
  },
  "language_info": {
   "name": "java"
  },
  "orig_nbformat": 4
 },
 "nbformat": 4,
 "nbformat_minor": 2
}
