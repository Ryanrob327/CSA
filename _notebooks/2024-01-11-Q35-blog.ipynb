{
 "cells": [
  {
   "cell_type": "markdown",
   "metadata": {},
   "source": [
    "---\n",
    "toc: true\n",
    "comments: true\n",
    "layout: post\n",
    "title: Q35 Iterative binarySearch of 1D int array\n",
    "description: \n",
    "courses: { calendar: {week: 18} }\n",
    "type: hacks\n",
    "---"
   ]
  },
  {
   "cell_type": "markdown",
   "metadata": {},
   "source": [
    "# Question\n",
    "\n",
    "Directions: Select the choice that best fits each statement. The following question(s) refer to the following information\n",
    "\n",
    "Consider the following binarySearch method. The method correctly performs a binary search."
   ]
  },
  {
   "cell_type": "code",
   "execution_count": null,
   "metadata": {
    "vscode": {
     "languageId": "java"
    }
   },
   "outputs": [],
   "source": [
    "public static in binarySearch(int[] data, int target)\n",
    "{\n",
    "    int start = 0;\n",
    "    int end = data.length - 1;\n",
    "    while (start <= end)\n",
    "    {\n",
    "        int mid = (start + end) / 2    /* Calculate midpoint */\n",
    "        if (target < data[mid])\n",
    "        {\n",
    "            end = mid - 1;\n",
    "        }\n",
    "        else if (target > data[mid])\n",
    "        {\n",
    "            start = mid + 1;\n",
    "        }\n",
    "        else\n",
    "        {\n",
    "            return mid;\n",
    "        }\n",
    "    }\n",
    "    return -1;\n",
    "}"
   ]
  },
  {
   "cell_type": "markdown",
   "metadata": {},
   "source": [
    "Consider the following code segment.\n",
    "\n",
    "\n",
    "```\n",
    "int [ ] values = {1, 2, 3, 4, 5, 8, 8, 8};int target = 8;\n",
    "```\n",
    "\n",
    "What value is returned by the call binarySearch (values, target) ?\n",
    "\n",
    "- a. -1\n",
    "- b. 3\n",
    "- c. 5\n",
    "- d. 6\n",
    "- e. 8\n",
    "\n",
    "\n",
    "# How to solve\n",
    "\n",
    "The array values is sorted in ascending order. The target value is 8. The binary search algorithm works by repeatedly dividing the search range in half until the target is found or the search range is empty.\n",
    "\n",
    "In this case, the algorithm would proceed as follows:\n",
    "\n",
    "1. Initial range: start = 0, end = 7\n",
    "2. Midpoint (mid): (0 + 7) / 2 = 3 (value at index 3 is 4)\n",
    "3. Since the target (8) is greater than 4, the algorithm updates the range: start = mid + 1 = 4, end = 7\n",
    "4. Midpoint: (4 + 7) / 2 = 5 (value at index 5 is 8)\n",
    "5. The target (8) is equal to the value at index 5. The algorithm returns the index 5.\n",
    "\n",
    "Therefore, the value returned by the call binarySearch(values, target) is 5, indicating that the target value 8 is found at index 5 in the array.\n",
    "\n",
    "It is important to note that integer division in Java rounds down to the lowest correct answer. See example below."
   ]
  },
  {
   "cell_type": "code",
   "execution_count": 2,
   "metadata": {
    "vscode": {
     "languageId": "java"
    }
   },
   "outputs": [
    {
     "name": "stdout",
     "output_type": "stream",
     "text": [
      "First: 0 | Last: 7\n",
      "Index: 3 | Value: 3\n"
     ]
    }
   ],
   "source": [
    "int [ ] arr = {0, 1, 2, 3, 4, 5, 6, 7};\n",
    "\n",
    "int first = 0;\n",
    "int last = arr.length - 1;\n",
    "int middle = (first + last) / 2;\n",
    "\n",
    "System.out.println(\"First: \" + first + \" | Last: \" + last);\n",
    "System.out.println(\"Index: \" + middle + \" | Value: \" + arr[middle] ); "
   ]
  }
 ],
 "metadata": {
  "kernelspec": {
   "display_name": "Java",
   "language": "java",
   "name": "java"
  },
  "language_info": {
   "codemirror_mode": "java",
   "file_extension": ".jshell",
   "mimetype": "text/x-java-source",
   "name": "Java",
   "pygments_lexer": "java",
   "version": "17.0.9+9-Ubuntu-120.04"
  }
 },
 "nbformat": 4,
 "nbformat_minor": 2
}
