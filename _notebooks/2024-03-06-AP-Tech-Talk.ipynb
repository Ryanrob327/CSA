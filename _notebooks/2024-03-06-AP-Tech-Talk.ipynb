{
 "cells": [
  {
   "cell_type": "markdown",
   "metadata": {},
   "source": [
    "---\n",
    "comments: true\n",
    "layout: post\n",
    "title: AP Tech Talk\n",
    "description: Notes for my team on Mr. Mort's tech talk\n",
    "courses: { calendar: {week: 25} }\n",
    "type: hacks\n",
    "---"
   ]
  },
  {
   "cell_type": "markdown",
   "metadata": {},
   "source": [
    "https://github.com/orgs/nighthawkcoders/projects/13/views/1?pane=issue&itemId=55176611\n",
    "\n",
    "# Data Types Prep\n",
    "\n",
    "- hacks directory in teacher portfolio\n",
    "- explore 2022 FRQ 1\n",
    "- understand college board fundamentals and terms(Mr. Mort a little angy😡)\n",
    "\n",
    "# Data Types Lesson\n",
    "- review the data types in this blog https://nighthawkcoders.github.io/teacher_portfolio//2024/03/05/DS-java-data_types_IPYNB_2_.html\n",
    "- find a topic that we don't entirely understand from the data types in the blog and create a lesson on that."
   ]
  },
  {
   "cell_type": "markdown",
   "metadata": {},
   "source": []
  },
  {
   "cell_type": "code",
   "execution_count": null,
   "metadata": {},
   "outputs": [],
   "source": []
  }
 ],
 "metadata": {
  "language_info": {
   "name": "python"
  }
 },
 "nbformat": 4,
 "nbformat_minor": 2
}
